{
  "nbformat": 4,
  "nbformat_minor": 0,
  "metadata": {
    "colab": {
      "provenance": []
    },
    "kernelspec": {
      "name": "python3",
      "display_name": "Python 3"
    },
    "language_info": {
      "name": "python"
    }
  },
  "cells": [
    {
      "cell_type": "code",
      "execution_count": 1,
      "metadata": {
        "id": "TqeWGDCzbeHM"
      },
      "outputs": [],
      "source": [
        "import pandas as pd\n",
        "import numpy as np\n",
        "import matplotlib.pyplot as plt\n",
        "from sklearn import preprocessing\n"
      ]
    },
    {
      "cell_type": "code",
      "source": [
        "from google.colab import drive\n",
        "drive.mount('/content/drive')\n"
      ],
      "metadata": {
        "colab": {
          "base_uri": "https://localhost:8080/"
        },
        "id": "HLtq_xCzbv6d",
        "outputId": "120f2232-88d7-4c41-caa2-4fae3e11dcd6"
      },
      "execution_count": 2,
      "outputs": [
        {
          "output_type": "stream",
          "name": "stdout",
          "text": [
            "Mounted at /content/drive\n"
          ]
        }
      ]
    },
    {
      "cell_type": "code",
      "source": [
        "#load train data\n",
        "train_data = ('/content/drive/My Drive/data/train_online.txt')\n",
        "df = pd.read_csv(train_data, header = None)\n",
        "\n",
        "df=pd.DataFrame(df)\n",
        "print(df)"
      ],
      "metadata": {
        "colab": {
          "base_uri": "https://localhost:8080/"
        },
        "id": "20ZtCQi9fwqa",
        "outputId": "7e352e2a-ae77-4a72-a599-5ef0c64eecd2"
      },
      "execution_count": 69,
      "outputs": [
        {
          "output_type": "stream",
          "name": "stdout",
          "text": [
            "      0    1  2\n",
            "0   1.0  1.0  0\n",
            "1   5.0  4.0  0\n",
            "2   1.1  1.1  0\n",
            "3   2.1  1.0  0\n",
            "4   3.0  2.0  0\n",
            "5   5.0  1.0  0\n",
            "6   0.0  0.0  1\n",
            "7  -1.0 -1.0  1\n",
            "8  -2.0 -2.0  1\n",
            "9  -2.5 -1.0  1\n",
            "10 -3.0 -4.0  1\n",
            "11 -5.0 -7.0  1\n"
          ]
        }
      ]
    },
    {
      "cell_type": "code",
      "source": [
        "#droping column 2\n",
        "df1=pd.DataFrame(df.iloc[1:,0:2])\n",
        "print(df1)\n"
      ],
      "metadata": {
        "colab": {
          "base_uri": "https://localhost:8080/"
        },
        "id": "VmIKnhIMg3fj",
        "outputId": "29fc9e7e-1eb4-4064-848b-59e8b47e6e1b"
      },
      "execution_count": 70,
      "outputs": [
        {
          "output_type": "stream",
          "name": "stdout",
          "text": [
            "      0    1\n",
            "1   5.0  4.0\n",
            "2   1.1  1.1\n",
            "3   2.1  1.0\n",
            "4   3.0  2.0\n",
            "5   5.0  1.0\n",
            "6   0.0  0.0\n",
            "7  -1.0 -1.0\n",
            "8  -2.0 -2.0\n",
            "9  -2.5 -1.0\n",
            "10 -3.0 -4.0\n",
            "11 -5.0 -7.0\n"
          ]
        }
      ]
    },
    {
      "cell_type": "code",
      "source": [
        "#data normalization\n",
        "y=lambda x:((x-x.mean())/x.std())\n",
        "y=y(df1)"
      ],
      "metadata": {
        "id": "F4S1qerHikEJ"
      },
      "execution_count": 71,
      "outputs": []
    },
    {
      "cell_type": "code",
      "source": [
        "print(y)"
      ],
      "metadata": {
        "colab": {
          "base_uri": "https://localhost:8080/"
        },
        "id": "wMDWYRd-j2dQ",
        "outputId": "0326b197-bc22-4484-8c4d-d36fc99d429b"
      },
      "execution_count": 72,
      "outputs": [
        {
          "output_type": "stream",
          "name": "stdout",
          "text": [
            "           0         1\n",
            "1   1.438743  1.503414\n",
            "2   0.258589  0.542314\n",
            "3   0.561192  0.509172\n",
            "4   0.833536  0.840586\n",
            "5   1.438743  0.509172\n",
            "6  -0.074275  0.177758\n",
            "7  -0.376879 -0.153656\n",
            "8  -0.679483 -0.485070\n",
            "9  -0.830785 -0.153656\n",
            "10 -0.982087 -1.147898\n",
            "11 -1.587294 -2.142140\n"
          ]
        }
      ]
    },
    {
      "cell_type": "code",
      "source": [
        "#load test data'\n",
        "test_data = ('/content/drive/My Drive/data/text_online.txt')\n",
        "testX = pd.read_csv(test_data, header = None)\n",
        "testX = np.array(testX)\n",
        "testX"
      ],
      "metadata": {
        "colab": {
          "base_uri": "https://localhost:8080/"
        },
        "id": "eftWnJ4rb3z-",
        "outputId": "79215dea-cd46-44da-9953-0191b63ff5fa"
      },
      "execution_count": 74,
      "outputs": [
        {
          "output_type": "execute_result",
          "data": {
            "text/plain": [
              "array([[ 2.5 ,  2.5 ],\n",
              "       [-1.25, -1.25],\n",
              "       [-0.7 , -0.5 ]])"
            ]
          },
          "metadata": {},
          "execution_count": 74
        }
      ]
    },
    {
      "cell_type": "code",
      "source": [
        "#slicing technique\n",
        "c1=df.iloc[0:6,0:2]\n",
        "c2=df.iloc[6:,0:2]\n",
        "c1=pd.DataFrame(c1)\n",
        "c2=pd.DataFrame(c2)\n",
        "print(c1)\n",
        "print(c2)"
      ],
      "metadata": {
        "colab": {
          "base_uri": "https://localhost:8080/"
        },
        "id": "6IIrky36n-rv",
        "outputId": "21910a1e-e36d-4cbd-92b2-4f81e6a04bcf"
      },
      "execution_count": 75,
      "outputs": [
        {
          "output_type": "stream",
          "name": "stdout",
          "text": [
            "     0    1\n",
            "0  1.0  1.0\n",
            "1  5.0  4.0\n",
            "2  1.1  1.1\n",
            "3  2.1  1.0\n",
            "4  3.0  2.0\n",
            "5  5.0  1.0\n",
            "      0    1\n",
            "6   0.0  0.0\n",
            "7  -1.0 -1.0\n",
            "8  -2.0 -2.0\n",
            "9  -2.5 -1.0\n",
            "10 -3.0 -4.0\n",
            "11 -5.0 -7.0\n"
          ]
        }
      ]
    },
    {
      "cell_type": "code",
      "source": [
        "#load the column 2 \n",
        "df3=df.iloc[:,2:]\n",
        "df3"
      ],
      "metadata": {
        "colab": {
          "base_uri": "https://localhost:8080/",
          "height": 426
        },
        "id": "0bEELdOR9944",
        "outputId": "a006a296-79ac-4f46-9c93-15522be39ffa"
      },
      "execution_count": 77,
      "outputs": [
        {
          "output_type": "execute_result",
          "data": {
            "text/plain": [
              "    2\n",
              "0   0\n",
              "1   0\n",
              "2   0\n",
              "3   0\n",
              "4   0\n",
              "5   0\n",
              "6   1\n",
              "7   1\n",
              "8   1\n",
              "9   1\n",
              "10  1\n",
              "11  1"
            ],
            "text/html": [
              "\n",
              "  <div id=\"df-29b1f830-c97f-4563-9e03-69412f724132\">\n",
              "    <div class=\"colab-df-container\">\n",
              "      <div>\n",
              "<style scoped>\n",
              "    .dataframe tbody tr th:only-of-type {\n",
              "        vertical-align: middle;\n",
              "    }\n",
              "\n",
              "    .dataframe tbody tr th {\n",
              "        vertical-align: top;\n",
              "    }\n",
              "\n",
              "    .dataframe thead th {\n",
              "        text-align: right;\n",
              "    }\n",
              "</style>\n",
              "<table border=\"1\" class=\"dataframe\">\n",
              "  <thead>\n",
              "    <tr style=\"text-align: right;\">\n",
              "      <th></th>\n",
              "      <th>2</th>\n",
              "    </tr>\n",
              "  </thead>\n",
              "  <tbody>\n",
              "    <tr>\n",
              "      <th>0</th>\n",
              "      <td>0</td>\n",
              "    </tr>\n",
              "    <tr>\n",
              "      <th>1</th>\n",
              "      <td>0</td>\n",
              "    </tr>\n",
              "    <tr>\n",
              "      <th>2</th>\n",
              "      <td>0</td>\n",
              "    </tr>\n",
              "    <tr>\n",
              "      <th>3</th>\n",
              "      <td>0</td>\n",
              "    </tr>\n",
              "    <tr>\n",
              "      <th>4</th>\n",
              "      <td>0</td>\n",
              "    </tr>\n",
              "    <tr>\n",
              "      <th>5</th>\n",
              "      <td>0</td>\n",
              "    </tr>\n",
              "    <tr>\n",
              "      <th>6</th>\n",
              "      <td>1</td>\n",
              "    </tr>\n",
              "    <tr>\n",
              "      <th>7</th>\n",
              "      <td>1</td>\n",
              "    </tr>\n",
              "    <tr>\n",
              "      <th>8</th>\n",
              "      <td>1</td>\n",
              "    </tr>\n",
              "    <tr>\n",
              "      <th>9</th>\n",
              "      <td>1</td>\n",
              "    </tr>\n",
              "    <tr>\n",
              "      <th>10</th>\n",
              "      <td>1</td>\n",
              "    </tr>\n",
              "    <tr>\n",
              "      <th>11</th>\n",
              "      <td>1</td>\n",
              "    </tr>\n",
              "  </tbody>\n",
              "</table>\n",
              "</div>\n",
              "      <button class=\"colab-df-convert\" onclick=\"convertToInteractive('df-29b1f830-c97f-4563-9e03-69412f724132')\"\n",
              "              title=\"Convert this dataframe to an interactive table.\"\n",
              "              style=\"display:none;\">\n",
              "        \n",
              "  <svg xmlns=\"http://www.w3.org/2000/svg\" height=\"24px\"viewBox=\"0 0 24 24\"\n",
              "       width=\"24px\">\n",
              "    <path d=\"M0 0h24v24H0V0z\" fill=\"none\"/>\n",
              "    <path d=\"M18.56 5.44l.94 2.06.94-2.06 2.06-.94-2.06-.94-.94-2.06-.94 2.06-2.06.94zm-11 1L8.5 8.5l.94-2.06 2.06-.94-2.06-.94L8.5 2.5l-.94 2.06-2.06.94zm10 10l.94 2.06.94-2.06 2.06-.94-2.06-.94-.94-2.06-.94 2.06-2.06.94z\"/><path d=\"M17.41 7.96l-1.37-1.37c-.4-.4-.92-.59-1.43-.59-.52 0-1.04.2-1.43.59L10.3 9.45l-7.72 7.72c-.78.78-.78 2.05 0 2.83L4 21.41c.39.39.9.59 1.41.59.51 0 1.02-.2 1.41-.59l7.78-7.78 2.81-2.81c.8-.78.8-2.07 0-2.86zM5.41 20L4 18.59l7.72-7.72 1.47 1.35L5.41 20z\"/>\n",
              "  </svg>\n",
              "      </button>\n",
              "      \n",
              "  <style>\n",
              "    .colab-df-container {\n",
              "      display:flex;\n",
              "      flex-wrap:wrap;\n",
              "      gap: 12px;\n",
              "    }\n",
              "\n",
              "    .colab-df-convert {\n",
              "      background-color: #E8F0FE;\n",
              "      border: none;\n",
              "      border-radius: 50%;\n",
              "      cursor: pointer;\n",
              "      display: none;\n",
              "      fill: #1967D2;\n",
              "      height: 32px;\n",
              "      padding: 0 0 0 0;\n",
              "      width: 32px;\n",
              "    }\n",
              "\n",
              "    .colab-df-convert:hover {\n",
              "      background-color: #E2EBFA;\n",
              "      box-shadow: 0px 1px 2px rgba(60, 64, 67, 0.3), 0px 1px 3px 1px rgba(60, 64, 67, 0.15);\n",
              "      fill: #174EA6;\n",
              "    }\n",
              "\n",
              "    [theme=dark] .colab-df-convert {\n",
              "      background-color: #3B4455;\n",
              "      fill: #D2E3FC;\n",
              "    }\n",
              "\n",
              "    [theme=dark] .colab-df-convert:hover {\n",
              "      background-color: #434B5C;\n",
              "      box-shadow: 0px 1px 3px 1px rgba(0, 0, 0, 0.15);\n",
              "      filter: drop-shadow(0px 1px 2px rgba(0, 0, 0, 0.3));\n",
              "      fill: #FFFFFF;\n",
              "    }\n",
              "  </style>\n",
              "\n",
              "      <script>\n",
              "        const buttonEl =\n",
              "          document.querySelector('#df-29b1f830-c97f-4563-9e03-69412f724132 button.colab-df-convert');\n",
              "        buttonEl.style.display =\n",
              "          google.colab.kernel.accessAllowed ? 'block' : 'none';\n",
              "\n",
              "        async function convertToInteractive(key) {\n",
              "          const element = document.querySelector('#df-29b1f830-c97f-4563-9e03-69412f724132');\n",
              "          const dataTable =\n",
              "            await google.colab.kernel.invokeFunction('convertToInteractive',\n",
              "                                                     [key], {});\n",
              "          if (!dataTable) return;\n",
              "\n",
              "          const docLinkHtml = 'Like what you see? Visit the ' +\n",
              "            '<a target=\"_blank\" href=https://colab.research.google.com/notebooks/data_table.ipynb>data table notebook</a>'\n",
              "            + ' to learn more about interactive tables.';\n",
              "          element.innerHTML = '';\n",
              "          dataTable['output_type'] = 'display_data';\n",
              "          await google.colab.output.renderOutput(dataTable, element);\n",
              "          const docLink = document.createElement('div');\n",
              "          docLink.innerHTML = docLinkHtml;\n",
              "          element.appendChild(docLink);\n",
              "        }\n",
              "      </script>\n",
              "    </div>\n",
              "  </div>\n",
              "  "
            ]
          },
          "metadata": {},
          "execution_count": 77
        }
      ]
    },
    {
      "cell_type": "code",
      "source": [
        "#condition to divide class 0 and class 1\n",
        "l1=[]\n",
        "l2=[]\n",
        "df3=df3=df.iloc[:,2:]\n",
        "i=0\n",
        "for i in range (11):\n",
        "  if(df3.iloc[i,0]==0):\n",
        "    l1.append(df1.iloc[i])\n",
        "  else:\n",
        "    l2.append(df1.iloc[i])\n",
        "\n",
        "l1=pd.DataFrame(l1)\n",
        "l2=pd.DataFrame(l2)\n",
        "print(l1)\n",
        "print(l2)\n",
        "\n"
      ],
      "metadata": {
        "id": "_pfhuvfK836C",
        "outputId": "ee239d30-e398-481a-ed69-3f896e6a5741",
        "colab": {
          "base_uri": "https://localhost:8080/"
        }
      },
      "execution_count": 78,
      "outputs": [
        {
          "output_type": "stream",
          "name": "stdout",
          "text": [
            "     0    1\n",
            "1  5.0  4.0\n",
            "2  1.1  1.1\n",
            "3  2.1  1.0\n",
            "4  3.0  2.0\n",
            "5  5.0  1.0\n",
            "6  0.0  0.0\n",
            "      0    1\n",
            "7  -1.0 -1.0\n",
            "8  -2.0 -2.0\n",
            "9  -2.5 -1.0\n",
            "10 -3.0 -4.0\n",
            "11 -5.0 -7.0\n"
          ]
        }
      ]
    },
    {
      "cell_type": "code",
      "source": [
        "#mean calculation\n",
        "mean1=l1.mean()\n",
        "mean2=l2.mean()\n",
        "print(mean1)\n",
        "print(mean2)\n"
      ],
      "metadata": {
        "id": "7cP-010q8CP8",
        "outputId": "ac622a56-9397-4811-fe22-78f4a3caf268",
        "colab": {
          "base_uri": "https://localhost:8080/"
        }
      },
      "execution_count": 79,
      "outputs": [
        {
          "output_type": "stream",
          "name": "stdout",
          "text": [
            "0    2.700000\n",
            "1    1.516667\n",
            "dtype: float64\n",
            "0   -2.7\n",
            "1   -3.0\n",
            "dtype: float64\n"
          ]
        }
      ]
    },
    {
      "cell_type": "code",
      "source": [
        "#covariance calculation\n",
        "cov1=l1.cov()\n",
        "cov2=l2.cov()\n",
        "print(cov1)\n",
        "print(cov2)\n",
        "\n"
      ],
      "metadata": {
        "colab": {
          "base_uri": "https://localhost:8080/"
        },
        "id": "cKGQoY9jlTgQ",
        "outputId": "2b5593af-9daf-458c-eb16-ffe945bb3f03"
      },
      "execution_count": 80,
      "outputs": [
        {
          "output_type": "stream",
          "name": "stdout",
          "text": [
            "       0         1\n",
            "0  4.176  1.948000\n",
            "1  1.948  1.881667\n",
            "     0    1\n",
            "0  2.2  3.5\n",
            "1  3.5  6.5\n"
          ]
        }
      ]
    },
    {
      "cell_type": "code",
      "source": [
        "# declaring Normal Distribution Values\n",
        "priorOmega1 = 0.5\n",
        "meanClass1 = np.array(mean1)\n",
        "varainceClass1 = np.array(cov1)\n",
        "priorOmega2 = 0.5\n",
        "meanClass2 = np.array(mean2)\n",
        "varainceClass2 = np.array(cov2)"
      ],
      "metadata": {
        "id": "Uxtj83sJliKv"
      },
      "execution_count": 81,
      "outputs": []
    },
    {
      "cell_type": "code",
      "source": [
        "#The implementation of the Normal Distribution Formula\n",
        "def normal(x, mean, variance):\n",
        "  out = np.zeros((x.shape[0],))\n",
        "  for i in range(x.shape[0]):\n",
        "    _x = x[i, :]\n",
        "    out[i,] = np.exp(- 0.5 * np.dot(_x - mean, np.dot(np.linalg.inv(variance), (_x - mean).T))) / (((2 * 3.14) ** x.shape[1]) * np.linalg.det(variance)) ** 0.5\n",
        "  return out"
      ],
      "metadata": {
        "id": "sv-sHo2JlvPf"
      },
      "execution_count": 82,
      "outputs": []
    },
    {
      "cell_type": "code",
      "source": [
        "#Generating value of both classes and for all provided points using Normal Distribution Formula\n",
        "norm1 = normal(testX, meanClass1, varainceClass1) * priorOmega1\n",
        "norm2 = normal(testX, meanClass2, varainceClass2) * priorOmega2"
      ],
      "metadata": {
        "id": "Lzd_qXW08smS"
      },
      "execution_count": 84,
      "outputs": []
    },
    {
      "cell_type": "code",
      "source": [
        "dataPoint = pd.DataFrame(columns = ['X1', 'X2', 'Probability Density Function', 'Size', 'Symbol', 'Color'])\n",
        "symbol = []\n",
        "\n",
        "norm1 = normal(testX, meanClass1, varainceClass1)\n",
        "norm2 = normal(testX, meanClass2, varainceClass2)\n",
        "\n",
        "for i in range(testX.shape[0]):\n",
        "  print(testX[i, :], 'are in', end = ' ')\n",
        "  if norm1[i] > norm2[i]:\n",
        "    dataPoint.loc[len(dataPoint)] = [testX[i, 0], testX[i, 1], norm1[i], 0.5, 'Class 0', '#00bfff']\n",
        "    print('Class 0')\n",
        "    symbol.append('x')\n",
        "  else:\n",
        "    dataPoint.loc[len(dataPoint)] = [testX[i, 0], testX[i, 1], norm2[i], 0.5, 'Class 1', '#8fbc8f']\n",
        "    print('Class 1')\n",
        "    symbol.append('square')"
      ],
      "metadata": {
        "colab": {
          "base_uri": "https://localhost:8080/"
        },
        "id": "nu7rzHV7lyWA",
        "outputId": "f9f43e9a-004d-4405-c715-db5968d411dc"
      },
      "execution_count": 86,
      "outputs": [
        {
          "output_type": "stream",
          "name": "stdout",
          "text": [
            "[2.5 2.5] are in Class 0\n",
            "[-1.25 -1.25] are in Class 1\n",
            "[-0.7 -0.5] are in Class 1\n"
          ]
        }
      ]
    }
  ]
}